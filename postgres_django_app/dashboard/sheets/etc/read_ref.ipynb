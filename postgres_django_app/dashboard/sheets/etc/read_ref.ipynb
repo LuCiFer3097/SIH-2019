{
 "cells": [
  {
   "cell_type": "code",
   "execution_count": 1,
   "metadata": {},
   "outputs": [
    {
     "name": "stderr",
     "output_type": "stream",
     "text": [
      "/usr/lib/python3.6/importlib/_bootstrap.py:219: RuntimeWarning: numpy.dtype size changed, may indicate binary incompatibility. Expected 96, got 88\n",
      "  return f(*args, **kwds)\n",
      "/usr/lib/python3.6/importlib/_bootstrap.py:219: RuntimeWarning: numpy.dtype size changed, may indicate binary incompatibility. Expected 96, got 88\n",
      "  return f(*args, **kwds)\n"
     ]
    }
   ],
   "source": [
    "import pandas as pd\n",
    "import math"
   ]
  },
  {
   "cell_type": "code",
   "execution_count": 2,
   "metadata": {},
   "outputs": [],
   "source": [
    "tdf = pd.read_excel('temp.xlsx')"
   ]
  },
  {
   "cell_type": "code",
   "execution_count": 3,
   "metadata": {},
   "outputs": [
    {
     "name": "stdout",
     "output_type": "stream",
     "text": [
      "<class 'pandas.core.frame.DataFrame'>\n",
      "RangeIndex: 14 entries, 0 to 13\n",
      "Data columns (total 52 columns):\n",
      "Item Desription eng                          14 non-null object\n",
      "Domestic Product                             4 non-null object\n",
      "GVA at basic prices                          14 non-null object\n",
      "Taxes on Products including import duties    14 non-null object\n",
      "Less Subsidies on Products                   14 non-null object\n",
      "GDP (1+2-3)                                  14 non-null object\n",
      "CFC                                          14 non-null object\n",
      "NDP(4-5)                                     14 non-null object\n",
      "Final Expenditure                            4 non-null object\n",
      "PFCE                                         14 non-null object\n",
      "GFCE                                         14 non-null object\n",
      "GCF                                          14 non-null object\n",
      "   GFCF                                      14 non-null object\n",
      "   CIS                                       14 non-null object\n",
      "   VALUABLES                                 14 non-null object\n",
      "Exports of goods and services                14 non-null object\n",
      "    Export of goods                          14 non-null object\n",
      "    Export of services                       14 non-null object\n",
      "Less Imports of goods and services           13 non-null object\n",
      "    Import of goods                          13 non-null object\n",
      "    Import of services                       13 non-null object\n",
      "Discrepancies                                13 non-null object\n",
      "GDP                                          13 non-null object\n",
      "Primary income receivable from ROW (net)     13 non-null object\n",
      "GNI(13+14)                                   13 non-null object\n",
      "NNI (15-5)                                   13 non-null object\n",
      "Other current transfers (net) from ROW       13 non-null object\n",
      "GNDI(15+17)                                  13 non-null object\n",
      "NNDI(18-5)                                   13 non-null object\n",
      "Gross Saving                                 14 non-null object\n",
      "Net Saving                                   14 non-null object\n",
      "Rates                                        4 non-null object\n",
      "Gross Saving to GNDI                         9 non-null object\n",
      "GCF to GDP                                   14 non-null object\n",
      "GCF  excluding Valuables to GDP              14 non-null object\n",
      "PFCE to NNI                                  14 non-null object\n",
      "Rates of Expenditure Components to GDP       4 non-null object\n",
      "PFCE.1                                       14 non-null object\n",
      "GFCE.1                                       14 non-null object\n",
      "GFCF                                         14 non-null object\n",
      "CIS                                          14 non-null object\n",
      "Valuables                                    14 non-null object\n",
      "Export of goods and services                 14 non-null object\n",
      "    Export of goods.1                        14 non-null object\n",
      "    Export of services.1                     14 non-null object\n",
      "Less Import of goods and services            14 non-null object\n",
      "    Import of goods.1                        14 non-null object\n",
      "    Import of services.1                     14 non-null object\n",
      "Discrepancies.1                              14 non-null object\n",
      "Percentage Change over Previous Year         4 non-null object\n",
      "GVA at basic prices.1                        12 non-null object\n",
      "GDP.1                                        12 non-null object\n",
      "dtypes: object(52)\n",
      "memory usage: 5.8+ KB\n",
      "None\n"
     ]
    }
   ],
   "source": [
    "print(tdf.info())"
   ]
  },
  {
   "cell_type": "code",
   "execution_count": 4,
   "metadata": {},
   "outputs": [
    {
     "name": "stdout",
     "output_type": "stream",
     "text": [
      "  Item Desription eng Domestic Product  \\\n",
      "0     Item Desription     घरेलू उत्पाद   \n",
      "1               S.No.                A   \n",
      "2             current          current   \n",
      "3            2011-12               NaN   \n",
      "4             2012-13              NaN   \n",
      "\n",
      "                              GVA at basic prices  \\\n",
      "0  बुनियादी मूल्‍यों पर सकल मूल्य वर्धन (स.मू.व.)   \n",
      "1                                             A.1   \n",
      "2                                         current   \n",
      "3                                         8106946   \n",
      "4                                         9202692   \n",
      "\n",
      "  Taxes on Products including import duties  \\\n",
      "0                          उत्‍पादों पर कर    \n",
      "1                                       A.2   \n",
      "2                                   current   \n",
      "3                                    890060   \n",
      "4                                   1057977   \n",
      "\n",
      "          Less Subsidies on Products                           GDP (1+2-3)  \\\n",
      "0  घटाएं: उत्‍पादों पर आर्थिक सहायता  सकल देशीय उत्‍पाद (स.दे.उ.)  (1+2-3)   \n",
      "1                                A.3                                   A.4   \n",
      "2                            current                               current   \n",
      "3                             260677                               8736329   \n",
      "4                             316656                               9944013   \n",
      "\n",
      "                                     CFC  \\\n",
      "0  स्‍थायी पूंजी अवक्षय (स्था. पू. अ.)     \n",
      "1                                    A.5   \n",
      "2                                current   \n",
      "3                                 917175   \n",
      "4                                1060905   \n",
      "\n",
      "                               NDP(4-5) Final Expenditure  \\\n",
      "0  निवल देशीय उत्‍पाद (नि.दे.उ.)  (4-5)       अंतिम व्‍यय   \n",
      "1                                   A.6                 B   \n",
      "2                               current           current   \n",
      "3                               7819154               NaN   \n",
      "4                               8883108               NaN   \n",
      "\n",
      "                                     PFCE   ...     \\\n",
      "0  निजी अंतिम उपभोग व्‍यय (नि. अं.उ.व्य.)   ...      \n",
      "1                                     B.1   ...      \n",
      "2                                 current   ...      \n",
      "3                                 4910447   ...      \n",
      "4                                 5614485   ...      \n",
      "\n",
      "    Export of goods and services     Export of goods.1  \\\n",
      "0  वस्तुओं एवं सेवाओं का निर्यात    वस्तुओं का निर्यात   \n",
      "1                            D.6                 D.6.1   \n",
      "2                        current               current   \n",
      "3                           24.5                  16.8   \n",
      "4                           24.5                  16.6   \n",
      "\n",
      "      Export of services.1    Less Import of goods and services  \\\n",
      "0        सेवाओं का निर्यात  घटाएं: वस्‍तुओं एवं सेवाओं का आयात    \n",
      "1                    D.6.2                                  D.7   \n",
      "2                  current                              current   \n",
      "3                      7.8                                 31.1   \n",
      "4                        8                                 31.3   \n",
      "\n",
      "      Import of goods.1     Import of services.1 Discrepancies.1  \\\n",
      "0       वस्तुओं का आयात           सेवाओं का आयात      विसंगतियां   \n",
      "1                 D.7.1                    D.7.2             D.8   \n",
      "2               current                  current         current   \n",
      "3                  26.8                      4.2            -0.3   \n",
      "4                  26.8                      4.4             1.2   \n",
      "\n",
      "       Percentage Change over Previous Year          GVA at basic prices.1  \\\n",
      "0  पिछले वर्ष की तुलना में प्रतिशत परिवर्तन  बुनियादी मूल्‍यों पर स.मू. व.   \n",
      "1                                         E                            E.1   \n",
      "2                                   current                        current   \n",
      "3                                       NaN                            NaN   \n",
      "4                                       NaN                           13.5   \n",
      "\n",
      "     GDP.1  \n",
      "0  स.दे.उ.  \n",
      "1      E.2  \n",
      "2  current  \n",
      "3      NaN  \n",
      "4     13.8  \n",
      "\n",
      "[5 rows x 52 columns]\n"
     ]
    }
   ],
   "source": [
    "print(tdf.head())"
   ]
  },
  {
   "cell_type": "code",
   "execution_count": 5,
   "metadata": {},
   "outputs": [
    {
     "name": "stdout",
     "output_type": "stream",
     "text": [
      "0     सकल बचत \n",
      "1         B.14\n",
      "2      current\n",
      "3      3026837\n",
      "4      3369202\n",
      "5      3608193\n",
      "6      4119766\n",
      "7      4418919\n",
      "8     constant\n",
      "9            0\n",
      "10           0\n",
      "11           0\n",
      "12           0\n",
      "13           0\n",
      "Name: Gross Saving, dtype: object\n"
     ]
    }
   ],
   "source": [
    "x = tdf['Gross Saving']\n",
    "print(x)"
   ]
  },
  {
   "cell_type": "code",
   "execution_count": 6,
   "metadata": {},
   "outputs": [
    {
     "data": {
      "text/plain": [
       "['सकल बचत ',\n",
       " 'B.14',\n",
       " 'current',\n",
       " 3026837,\n",
       " 3369202,\n",
       " 3608193,\n",
       " 4119766,\n",
       " 4418919,\n",
       " 'constant',\n",
       " 0,\n",
       " 0,\n",
       " 0,\n",
       " 0,\n",
       " 0]"
      ]
     },
     "execution_count": 6,
     "metadata": {},
     "output_type": "execute_result"
    }
   ],
   "source": [
    "list(x)"
   ]
  },
  {
   "cell_type": "code",
   "execution_count": 7,
   "metadata": {},
   "outputs": [
    {
     "name": "stdout",
     "output_type": "stream",
     "text": [
      "['सकल बचत ', 'B.14', 'current', 3026837, 3369202, 3608193, 4119766, 4418919, 'constant', 0, 0, 0, 0, 0]\n"
     ]
    }
   ],
   "source": [
    "l = list(x)\n",
    "print(l)"
   ]
  },
  {
   "cell_type": "code",
   "execution_count": 8,
   "metadata": {},
   "outputs": [],
   "source": [
    "nans = [i for i in range(2,len(l)) if isinstance(l[i],str) ]"
   ]
  },
  {
   "cell_type": "code",
   "execution_count": 9,
   "metadata": {},
   "outputs": [
    {
     "name": "stdout",
     "output_type": "stream",
     "text": [
      "[2, 8]\n"
     ]
    }
   ],
   "source": [
    "print(nans)"
   ]
  },
  {
   "cell_type": "code",
   "execution_count": 10,
   "metadata": {},
   "outputs": [
    {
     "name": "stdout",
     "output_type": "stream",
     "text": [
      "current\n",
      "constant\n"
     ]
    }
   ],
   "source": [
    "print(l[nans[0]])\n",
    "print(l[nans[1]])"
   ]
  },
  {
   "cell_type": "code",
   "execution_count": 11,
   "metadata": {},
   "outputs": [],
   "source": [
    "#current,constant"
   ]
  },
  {
   "cell_type": "code",
   "execution_count": 12,
   "metadata": {},
   "outputs": [
    {
     "name": "stdout",
     "output_type": "stream",
     "text": [
      "[3026837, 3369202, 3608193, 4119766, 4418919]\n",
      "[0, 0, 0, 0, 0]\n"
     ]
    }
   ],
   "source": [
    "print(l[nans[0]+1:nans[1]])\n",
    "print(l[nans[1]+1:])"
   ]
  },
  {
   "cell_type": "code",
   "execution_count": 13,
   "metadata": {},
   "outputs": [
    {
     "name": "stdout",
     "output_type": "stream",
     "text": [
      "['सकल बचत ', 'B.14', 'current', 3026837, 3369202, 3608193, 4119766, 4418919, 'constant', 0, 0, 0, 0, 0]\n"
     ]
    }
   ],
   "source": [
    "print(l)"
   ]
  },
  {
   "cell_type": "code",
   "execution_count": 14,
   "metadata": {},
   "outputs": [
    {
     "data": {
      "text/plain": [
       "'B.14'"
      ]
     },
     "execution_count": 14,
     "metadata": {},
     "output_type": "execute_result"
    }
   ],
   "source": [
    "l[1]"
   ]
  },
  {
   "cell_type": "code",
   "execution_count": 16,
   "metadata": {},
   "outputs": [],
   "source": [
    "plist = l[1].split('.')"
   ]
  },
  {
   "cell_type": "code",
   "execution_count": 17,
   "metadata": {},
   "outputs": [
    {
     "data": {
      "text/plain": [
       "'B'"
      ]
     },
     "execution_count": 17,
     "metadata": {},
     "output_type": "execute_result"
    }
   ],
   "source": [
    "dct[plist[0]]"
   ]
  },
  {
   "cell_type": "code",
   "execution_count": 23,
   "metadata": {},
   "outputs": [
    {
     "name": "stdout",
     "output_type": "stream",
     "text": [
      "S.No.\n",
      "A\n",
      "A.1\n",
      "A.2\n",
      "A.3\n",
      "A.4\n",
      "A.5\n",
      "A.6\n",
      "B\n",
      "B.1\n",
      "B.2\n",
      "B.3\n",
      "B.3.1\n",
      "B.3.2\n",
      "B.3.3\n",
      "B.4\n",
      "B.4.1\n",
      "B.4.2\n",
      "B.5\n",
      "B.5.1\n",
      "B.5.2\n",
      "B.6\n",
      "B.7\n",
      "B.8\n",
      "B.9\n",
      "B.10\n",
      "B.11\n",
      "1B.12\n",
      "B.13\n",
      "B.14\n",
      "B.15\n",
      "C\n",
      "C.1\n",
      "C.2\n",
      "C.3\n",
      "C.4\n",
      "D\n",
      "D.1\n",
      "D.2\n",
      "D.3\n",
      "D.4\n",
      "D.5\n",
      "D.6\n",
      "D.6.1\n",
      "D.6.2\n",
      "D.7\n",
      "D.7.1\n",
      "D.7.2\n",
      "D.8\n",
      "E\n",
      "E.1\n",
      "E.2\n"
     ]
    }
   ],
   "source": [
    "for i in tdf.columns:\n",
    "    print(tdf[i][1])"
   ]
  },
  {
   "cell_type": "code",
   "execution_count": null,
   "metadata": {},
   "outputs": [],
   "source": []
  }
 ],
 "metadata": {
  "kernelspec": {
   "display_name": "Python 3",
   "language": "python",
   "name": "python3"
  },
  "language_info": {
   "codemirror_mode": {
    "name": "ipython",
    "version": 3
   },
   "file_extension": ".py",
   "mimetype": "text/x-python",
   "name": "python",
   "nbconvert_exporter": "python",
   "pygments_lexer": "ipython3",
   "version": "3.6.5"
  }
 },
 "nbformat": 4,
 "nbformat_minor": 2
}
